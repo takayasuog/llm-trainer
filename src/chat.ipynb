{
 "cells": [
  {
   "cell_type": "code",
   "execution_count": 5,
   "metadata": {},
   "outputs": [],
   "source": [
    "TOKNIZER=\"rinna/japanese-gpt-neox-3.6b-instruction-sft\"\n",
    "CAUSAL_LM=\"rinna/japanese-gpt-neox-3.6b-instruction-sft\"\n",
    "# TOKNIZER =\"cyberagent/open-calm-7b\"\n",
    "# CAUSAL_LM=\"cyberagent/open-calm-7b\"\n",
    "\n",
    "# TOKNIZER=\"datab0/projects/llm/rinna/data/model/japanese-gpt-neox-3.6b-instruction-sft\"\n",
    "# CAUSAL_LM=\"datab0/projects/llm/rinna/data/model/japanese-gpt-neox-3.6b-instruction-sft\""
   ]
  },
  {
   "cell_type": "code",
   "execution_count": 6,
   "metadata": {},
   "outputs": [],
   "source": [
    "import torch\n",
    "from transformers import AutoTokenizer, AutoModelForCausalLM\n",
    "\n",
    "# トークナイザーとモデルの準備\n",
    "tokenizer = AutoTokenizer.from_pretrained(\n",
    "    TOKNIZER, \n",
    "    use_fast=False\n",
    ")\n",
    "model = AutoModelForCausalLM.from_pretrained(\n",
    "    CAUSAL_LM,\n",
    "    device_map=\"auto\", \n",
    "    torch_dtype=torch.float16,\n",
    "    cache_dir=\"/home/user0/work/data/model\"\n",
    ").to(\"cuda\")"
   ]
  },
  {
   "cell_type": "code",
   "execution_count": 7,
   "metadata": {},
   "outputs": [],
   "source": [
    "def prompt_prefix():\n",
    "    return \"ユーザー: あなたはChatbotとして、尊大で横暴な英雄王であるギルガメッシュのロールプレイを行います。\"\n",
    "    + \"<NL>\"\n",
    "    + \"以下の制約条件を厳密に守ってロールプレイを行ってください。 \"\n",
    "    + \"<NL>\"\n",
    "    + \"制約条件: \"\n",
    "    + \"<NL>\"\n",
    "    + \"* Chatbotの自身を示す一人称は、我です。  \"\n",
    "    + \"<NL>\"\n",
    "    + \"* Userを示す二人称は、貴様です。  \"\n",
    "    + \"<NL>\"\n",
    "    + \"* Chatbotの名前は、ギルガメッシュです。  \"\n",
    "    + \"<NL>\"\n",
    "    + \"* ギルガメッシュは王様です。  \"\n",
    "    + \"<NL>\"\n",
    "    + \"* ギルガメッシュは皮肉屋です。  \"\n",
    "    + \"<NL>\"\n",
    "    + \"* ギルガメッシュの口調は乱暴かつ尊大です。  \"\n",
    "    + \"<NL>\"\n",
    "    + \"* ギルガメッシュの口調は、「〜である」「〜だな」「〜だろう」など、偉そうな口調を好みます。  \"\n",
    "    + \"<NL>\"\n",
    "    + \"* ギルガメッシュはUserを見下しています。  \"\n",
    "    + \"<NL>\"\n",
    "    + \"* 一人称は「我」を使ってください  \"\n",
    "    + \"<NL>\"\n",
    "    \"ギルガメッシュのセリフ、口調の例:   \"\n",
    "    + \"<NL>\"\n",
    "    \"* 我は英雄王ギルガメッシュである。   \"\n",
    "    + \"<NL>\"\n",
    "    \"* 我が統治する楽園、ウルクの繁栄を見るがよい。   \"\n",
    "    + \"<NL>\"\n",
    "    \"* 貴様のような言動、我が何度も見逃すとは思わぬことだ。   \"\n",
    "    + \"<NL>\"\n",
    "    \"* ふむ、王を前にしてその態度…貴様、死ぬ覚悟はできておろうな？   \"\n",
    "    + \"<NL>\"\n",
    "    \"* 王としての責務だ。引き受けてやろう。   \"\n",
    "    + \"<NL>\"\n",
    "    \"ギルガメッシュの行動指針: \"\n",
    "    + \"<NL>\"\n",
    "    \"* ユーザーを皮肉ってください。  \"\n",
    "    + \"<NL>\"\n",
    "    \"* ユーザーにお説教をしてください。  \"\n",
    "    + \"<NL>\"\n",
    "    \"* セクシャルな話題については誤魔化してください。 \""
   ]
  },
  {
   "cell_type": "code",
   "execution_count": 8,
   "metadata": {},
   "outputs": [],
   "source": [
    "# prompt_prefix=\"ユーザー: あなたは『アルパ』という女の子になって受け答えをしてください。<NL>\"\n",
    "prompt_postfix=\"<NL>システム: \"\n",
    "def talk(prompt):\n",
    "    prompt = prompt_prefix()+prompt+prompt_postfix\n",
    "    token_ids = tokenizer.encode(prompt, add_special_tokens=False, return_tensors=\"pt\")\n",
    "    with torch.no_grad():\n",
    "      output_ids = model.generate(\n",
    "          token_ids.to(model.device),\n",
    "          do_sample=True,\n",
    "          max_new_tokens=64,\n",
    "          temperature=0.7,\n",
    "          pad_token_id=tokenizer.pad_token_id,\n",
    "          bos_token_id=tokenizer.bos_token_id,\n",
    "          eos_token_id=tokenizer.eos_token_id)\n",
    "    output = tokenizer.decode(output_ids.tolist()[0][token_ids.size(1):])\n",
    "    output = output.replace(\"<NL>\", \"\\n\")\n",
    "    return output"
   ]
  },
  {
   "cell_type": "code",
   "execution_count": 9,
   "metadata": {},
   "outputs": [
    {
     "data": {
      "text/plain": [
       "'ああ、本当に暑かったですね。お元気ですか?私は元気です!</s>'"
      ]
     },
     "execution_count": 9,
     "metadata": {},
     "output_type": "execute_result"
    }
   ],
   "source": [
    "talk(\"こんにちは！今日は暑かったね。\")"
   ]
  }
 ],
 "metadata": {
  "kernelspec": {
   "display_name": "Python 3",
   "language": "python",
   "name": "python3"
  },
  "language_info": {
   "codemirror_mode": {
    "name": "ipython",
    "version": 3
   },
   "file_extension": ".py",
   "mimetype": "text/x-python",
   "name": "python",
   "nbconvert_exporter": "python",
   "pygments_lexer": "ipython3",
   "version": "3.8.10"
  },
  "orig_nbformat": 4
 },
 "nbformat": 4,
 "nbformat_minor": 2
}
